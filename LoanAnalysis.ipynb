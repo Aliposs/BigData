{
 "cells": [
  {
   "cell_type": "code",
   "execution_count": 7,
   "id": "9ae5cfd6",
   "metadata": {},
   "outputs": [],
   "source": [
    "#Import Packages\n",
    "import findspark\n",
    "findspark.init()\n",
    "import pyspark\n",
    "from pyspark.sql import SparkSession\n",
    "from pyspark.sql.functions import *\n",
    "spark = SparkSession.builder.getOrCreate()"
   ]
  },
  {
   "cell_type": "markdown",
   "id": "df90779c",
   "metadata": {},
   "source": [
    "# loading Stored Dataset "
   ]
  },
  {
   "cell_type": "code",
   "execution_count": 8,
   "id": "f8feb1ab",
   "metadata": {},
   "outputs": [
    {
     "name": "stdout",
     "output_type": "stream",
     "text": [
      "root\n",
      " |-- Customer_ID: string (nullable = true)\n",
      " |-- Age: integer (nullable = true)\n",
      " |-- Gender: string (nullable = true)\n",
      " |-- Occupation: string (nullable = true)\n",
      " |-- Marital Status: string (nullable = true)\n",
      " |-- Family Size: integer (nullable = true)\n",
      " |-- Income: integer (nullable = true)\n",
      " |-- Expenditure: integer (nullable = true)\n",
      " |-- Use Frequency: integer (nullable = true)\n",
      " |-- Loan Category: string (nullable = true)\n",
      " |-- Loan Amount: string (nullable = true)\n",
      " |-- Overdue: integer (nullable = true)\n",
      " |--  Debt Record: string (nullable = true)\n",
      " |--  Returned Cheque: integer (nullable = true)\n",
      " |--  Dishonour of Bill: integer (nullable = true)\n",
      "\n"
     ]
    }
   ],
   "source": [
    "# load Dataset\n",
    "df = spark.read.csv(\"D:/BigData Project/loan.csv\", inferSchema = True, header = True)\n",
    "#Describe Schema\n",
    "df.printSchema()"
   ]
  },
  {
   "cell_type": "code",
   "execution_count": 9,
   "id": "ecc931dc",
   "metadata": {},
   "outputs": [
    {
     "name": "stdout",
     "output_type": "stream",
     "text": [
      "+-----------+---+------+------------+--------------+-----------+------+-----------+-------------+-------------+-----------+-------+------------+----------------+------------------+\n",
      "|Customer_ID|Age|Gender|  Occupation|Marital Status|Family Size|Income|Expenditure|Use Frequency|Loan Category|Loan Amount|Overdue| Debt Record| Returned Cheque| Dishonour of Bill|\n",
      "+-----------+---+------+------------+--------------+-----------+------+-----------+-------------+-------------+-----------+-------+------------+----------------+------------------+\n",
      "|    IB14001| 30|  MALE|BANK MANAGER|        SINGLE|          4| 50000|      22199|            6|      HOUSING| 10,00,000 |      5|      42,898|               6|                 9|\n",
      "|    IB14008| 44|  MALE|   PROFESSOR|       MARRIED|          6| 51000|      19999|            4|     SHOPPING|     50,000|      3|      33,999|               1|                 5|\n",
      "|    IB14012| 30|FEMALE|     DENTIST|        SINGLE|          3| 58450|      27675|            5|   TRAVELLING|     75,000|      6|      20,876|               3|                 1|\n",
      "|    IB14018| 29|  MALE|     TEACHER|       MARRIED|          5| 45767|      12787|            3|    GOLD LOAN|  6,00,000 |      7|      11,000|               0|                 4|\n",
      "|    IB14022| 34|  MALE|      POLICE|        SINGLE|          4| 43521|      11999|            3|   AUTOMOBILE|  2,00,000 |      2|      43,898|               1|                 2|\n",
      "+-----------+---+------+------------+--------------+-----------+------+-----------+-------------+-------------+-----------+-------+------------+----------------+------------------+\n",
      "only showing top 5 rows\n",
      "\n"
     ]
    }
   ],
   "source": [
    "df.show(5)"
   ]
  },
  {
   "cell_type": "code",
   "execution_count": 15,
   "id": "cec9110e",
   "metadata": {},
   "outputs": [],
   "source": [
    "#Save With An Copy\n",
    "copy_df = df"
   ]
  },
  {
   "cell_type": "code",
   "execution_count": 16,
   "id": "de498752",
   "metadata": {
    "scrolled": false
   },
   "outputs": [
    {
     "data": {
      "text/plain": [
       "15"
      ]
     },
     "execution_count": 16,
     "metadata": {},
     "output_type": "execute_result"
    }
   ],
   "source": [
    "#length Of Columns\n",
    "len(df.columns)"
   ]
  },
  {
   "cell_type": "code",
   "execution_count": 17,
   "id": "7b3c5aa1",
   "metadata": {},
   "outputs": [
    {
     "data": {
      "text/plain": [
       "500"
      ]
     },
     "execution_count": 17,
     "metadata": {},
     "output_type": "execute_result"
    }
   ],
   "source": [
    "#Number Of rows\n",
    "df.count()"
   ]
  },
  {
   "cell_type": "markdown",
   "id": "bc15dfe7",
   "metadata": {},
   "source": [
    "# 1) Number  Of Loans In Each Category"
   ]
  },
  {
   "cell_type": "code",
   "execution_count": 31,
   "id": "aa9b3bb5",
   "metadata": {},
   "outputs": [
    {
     "name": "stdout",
     "output_type": "stream",
     "text": [
      "+------------------+-----+\n",
      "|     Loan Category|count|\n",
      "+------------------+-----+\n",
      "|         GOLD LOAN|   77|\n",
      "|           HOUSING|   67|\n",
      "|        AUTOMOBILE|   60|\n",
      "|        TRAVELLING|   53|\n",
      "|       RESTAURANTS|   41|\n",
      "|COMPUTER SOFTWARES|   35|\n",
      "|          SHOPPING|   35|\n",
      "|          BUSINESS|   24|\n",
      "|  EDUCATIONAL LOAN|   20|\n",
      "|        RESTAURANT|   20|\n",
      "|           DINNING|   14|\n",
      "|       ELECTRONICS|   14|\n",
      "|   HOME APPLIANCES|   14|\n",
      "|       AGRICULTURE|   12|\n",
      "|       BOOK STORES|    7|\n",
      "|          BUILDING|    7|\n",
      "+------------------+-----+\n",
      "\n"
     ]
    }
   ],
   "source": [
    "# Number Of Loans In Each Category \n",
    "df.groupBy(\"Loan Category\").count().orderBy(\"count\", ascending = False).show()"
   ]
  },
  {
   "cell_type": "markdown",
   "id": "17549bff",
   "metadata": {},
   "source": [
    "# 2) number of people who have taken more than 1 lack loan"
   ]
  },
  {
   "cell_type": "code",
   "execution_count": 32,
   "id": "8e3cabfc",
   "metadata": {},
   "outputs": [
    {
     "name": "stdout",
     "output_type": "stream",
     "text": [
      "_Number of People Who Taken More Than 1 Lack Loan:  379\n"
     ]
    }
   ],
   "source": [
    "#Number Of People Who Have Taken More than 1 Lack Loan\n",
    "count_lack_loan = df.filter(df[\"Loan Amount\"]>\"1,00,000\").count()\n",
    "# Print Number Of People Who Taken More Than 1 Lack Loan\n",
    "print(\"_Number of People Who Taken More Than 1 Lack Loan: \", count_lack_loan)"
   ]
  },
  {
   "cell_type": "markdown",
   "id": "2dec0b0f",
   "metadata": {},
   "source": [
    "# 3) number of people with income greater than 60000 pounds"
   ]
  },
  {
   "cell_type": "code",
   "execution_count": 36,
   "id": "c3b3ccc2",
   "metadata": {},
   "outputs": [
    {
     "name": "stdout",
     "output_type": "stream",
     "text": [
      "_Number Of People With Income Greater Than 60000 Pounds:  198\n"
     ]
    }
   ],
   "source": [
    "#Number Of People With Income Greater Than 60000 Pounds\n",
    "count_great_than_60000 = df.filter(df[\"Income\"]>\"60000\").count()\n",
    "# Print Number Of People With Income Greater Than 60000 Pounds\n",
    "print(\"_Number Of People With Income Greater Than 60000 Pounds: \", count_great_than_60000)"
   ]
  },
  {
   "cell_type": "markdown",
   "id": "c734a4c9",
   "metadata": {},
   "source": [
    "# 4) number of people with 2 or more cheques and income less than 50000"
   ]
  },
  {
   "cell_type": "code",
   "execution_count": 37,
   "id": "c61a0b2b",
   "metadata": {},
   "outputs": [
    {
     "name": "stdout",
     "output_type": "stream",
     "text": [
      "_Number Of People with 2 Or More Cheques And Income Less Than 50000:  137\n"
     ]
    }
   ],
   "source": [
    "#Number Of People with 2 Or More Cheques And Income Less Than 50000\n",
    "count_2_or_more_cheques_and_income_less_than_50000 = df.filter((df[\" Returned Cheque\"]>\"1\") & (df[\"Income\"]<\"50000\")).count()\n",
    "# Print Number Of People with 2 Or More Cheques And Income Less Than 50000\n",
    "print(\"_Number Of People with 2 Or More Cheques And Income Less Than 50000: \", count_2_or_more_cheques_and_income_less_than_50000 )"
   ]
  },
  {
   "cell_type": "markdown",
   "id": "f16e4a0b",
   "metadata": {},
   "source": [
    "# 5) number of people with 2 or more cheques and are single"
   ]
  },
  {
   "cell_type": "code",
   "execution_count": 38,
   "id": "957b96fa",
   "metadata": {},
   "outputs": [
    {
     "name": "stdout",
     "output_type": "stream",
     "text": [
      "_Number Of People With 2 Or More Cheques And Are Single:  283\n"
     ]
    }
   ],
   "source": [
    "#Number Of People With 2 Or More Cheques And Are Single\n",
    "count_2_or_more_cheques_and_single = df.filter((df[\" Returned Cheque\"]>\"1\") & (df[\"Marital Status\"]<\"SINGLE\")).count()\n",
    "# Print Number Of People With 2 Or More Cheques And Are Single\n",
    "print(\"_Number Of People With 2 Or More Cheques And Are Single: \", count_2_or_more_cheques_and_single)"
   ]
  },
  {
   "cell_type": "markdown",
   "id": "6d70331b",
   "metadata": {},
   "source": [
    "# 6) number of people with expenditure over 50000 a month "
   ]
  },
  {
   "cell_type": "code",
   "execution_count": 44,
   "id": "35e142a8",
   "metadata": {},
   "outputs": [
    {
     "name": "stdout",
     "output_type": "stream",
     "text": [
      "_Number Of People With Expenditure Over 50000 A Month:  6\n"
     ]
    }
   ],
   "source": [
    "#Number Of People With Expenditure Over 50000 A Month \n",
    "count_over_50000_a_mounth = df.filter((df[\"Expenditure\"] > \"50000\")).count()\n",
    "# Print Number Of People With Expenditure Over 50000 A Month\n",
    "print(\"_Number Of People With Expenditure Over 50000 A Month: \", count_over_50000_a_mounth)"
   ]
  }
 ],
 "metadata": {
  "kernelspec": {
   "display_name": "Python 3 (ipykernel)",
   "language": "python",
   "name": "python3"
  },
  "language_info": {
   "codemirror_mode": {
    "name": "ipython",
    "version": 3
   },
   "file_extension": ".py",
   "mimetype": "text/x-python",
   "name": "python",
   "nbconvert_exporter": "python",
   "pygments_lexer": "ipython3",
   "version": "3.11.5"
  }
 },
 "nbformat": 4,
 "nbformat_minor": 5
}
